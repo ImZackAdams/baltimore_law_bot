{
 "cells": [
  {
   "cell_type": "code",
   "execution_count": 1,
   "id": "61886f8a",
   "metadata": {},
   "outputs": [
    {
     "name": "stdout",
     "output_type": "stream",
     "text": [
      "Data stored successfully!\n"
     ]
    }
   ],
   "source": [
    "import sqlite3\n",
    "\n",
    "# Step 1: Inspect the Data\n",
    "with open(\"beyond-good-and-evil.txt\", \"r\", encoding=\"utf-8\") as file:\n",
    "    text = file.read()\n",
    "\n",
    "# Optional: Print first 1000 characters to inspect\n",
    "# print(text[:1000])\n",
    "\n",
    "# Step 2: Data Cleaning (this is minimal, adjust based on inspection)\n",
    "text = text.strip()  # Remove leading and trailing whitespace\n",
    "\n",
    "# Step 3: Segmentation\n",
    "paragraphs = [p.strip() for p in text.split(\"\\n\") if p]\n",
    "\n",
    "# Step 4: Store the Data in SQLite\n",
    "\n",
    "# Setting up SQLite\n",
    "conn = sqlite3.connect('philosophy_chatbot_data.db')\n",
    "cursor = conn.cursor()\n",
    "\n",
    "# Creating a Table\n",
    "cursor.execute('''\n",
    "CREATE TABLE IF NOT EXISTS philosophy_text (\n",
    "    id INTEGER PRIMARY KEY,\n",
    "    paragraph TEXT\n",
    ")\n",
    "''')\n",
    "\n",
    "# Inserting Data\n",
    "for para in paragraphs:\n",
    "    cursor.execute(\"INSERT INTO philosophy_text (paragraph) VALUES (?)\", (para,))\n",
    "\n",
    "# Commit and Close\n",
    "conn.commit()\n",
    "conn.close()\n",
    "\n",
    "print(\"Data stored successfully!\")\n"
   ]
  },
  {
   "cell_type": "code",
   "execution_count": 2,
   "id": "48d536df",
   "metadata": {},
   "outputs": [],
   "source": [
    "import sqlite3\n",
    "\n",
    "conn = sqlite3.connect('philosophy_chatbot_data.db')\n",
    "cursor = conn.cursor()\n",
    "\n",
    "cursor.execute(\"SELECT paragraph FROM philosophy_text\")\n",
    "data = cursor.fetchall()\n",
    "\n",
    "# Convert data into a list of paragraphs\n",
    "paragraphs = [item[0] for item in data]\n",
    "\n",
    "conn.close()"
   ]
  },
  {
   "cell_type": "raw",
   "id": "ea8be978",
   "metadata": {},
   "source": [
    "\n"
   ]
  },
  {
   "cell_type": "code",
   "execution_count": 3,
   "id": "7272b90a",
   "metadata": {},
   "outputs": [],
   "source": [
    "from transformers import GPT2LMHeadModel, GPT2Tokenizer\n",
    "\n",
    "model_name = \"gpt2-medium\"  # You can choose other versions like \"gpt2-large\" if you have the computational resources\n",
    "model = GPT2LMHeadModel.from_pretrained(model_name)\n",
    "tokenizer = GPT2Tokenizer.from_pretrained(model_name)\n",
    "\n"
   ]
  },
  {
   "cell_type": "code",
   "execution_count": 4,
   "id": "3f2a3979",
   "metadata": {},
   "outputs": [
    {
     "data": {
      "application/vnd.jupyter.widget-view+json": {
       "model_id": "ab312893a864454c95f1a0aa82772f98",
       "version_major": 2,
       "version_minor": 0
      },
      "text/plain": [
       "Downloading (…)olve/main/vocab.json:   0%|          | 0.00/1.04M [00:00<?, ?B/s]"
      ]
     },
     "metadata": {},
     "output_type": "display_data"
    },
    {
     "data": {
      "application/vnd.jupyter.widget-view+json": {
       "model_id": "5f0598e285004e5f85cb661962ecb876",
       "version_major": 2,
       "version_minor": 0
      },
      "text/plain": [
       "Downloading (…)olve/main/merges.txt:   0%|          | 0.00/456k [00:00<?, ?B/s]"
      ]
     },
     "metadata": {},
     "output_type": "display_data"
    },
    {
     "data": {
      "application/vnd.jupyter.widget-view+json": {
       "model_id": "2319312192684ea9be70ba11b1cc6985",
       "version_major": 2,
       "version_minor": 0
      },
      "text/plain": [
       "Downloading (…)lve/main/config.json:   0%|          | 0.00/666 [00:00<?, ?B/s]"
      ]
     },
     "metadata": {},
     "output_type": "display_data"
    },
    {
     "data": {
      "application/vnd.jupyter.widget-view+json": {
       "model_id": "857e9aec043a4c1ab85d856d50ae8fde",
       "version_major": 2,
       "version_minor": 0
      },
      "text/plain": [
       "Downloading model.safetensors:   0%|          | 0.00/3.25G [00:00<?, ?B/s]"
      ]
     },
     "metadata": {},
     "output_type": "display_data"
    },
    {
     "data": {
      "application/vnd.jupyter.widget-view+json": {
       "model_id": "98f7cf64bf8841d6bf97c7e8e6e1dec3",
       "version_major": 2,
       "version_minor": 0
      },
      "text/plain": [
       "Downloading (…)neration_config.json:   0%|          | 0.00/124 [00:00<?, ?B/s]"
      ]
     },
     "metadata": {},
     "output_type": "display_data"
    },
    {
     "name": "stderr",
     "output_type": "stream",
     "text": [
      "Setting `pad_token_id` to `eos_token_id`:50256 for open-end generation.\n"
     ]
    },
    {
     "name": "stdout",
     "output_type": "stream",
     "text": [
      "What does Nietzsche say about the need for moral character?\n",
      "\n",
      "Nietzsche's answer to this question is clear: \"The individual is the master of his own fate.\" One of the most celebrated passages of this theme is his famous aphorism on the need for morality:\n",
      "\n",
      "Moral characters, that is, those who have the strength of character and are in no way led by the passions, can only be created by the will to power. And this is the only way to create them. (The Gay Science, The Gay Science, p. 13)\n",
      "\n",
      "Nietzsche's concept of the will to power is rooted in the idea that the individual is the master of his own fate, and that the will to power is the only thing that can create moral character. In other words, the individual can only create a moral character when he is in the position to act on his own will.\n",
      "\n",
      "So, in order to create moral character, the individual must have the\n"
     ]
    }
   ],
   "source": [
    "import torch\n",
    "from transformers import GPT2Tokenizer, GPT2LMHeadModel\n",
    "\n",
    "# Load pre-trained model and tokenizer\n",
    "model_name = \"gpt2-large\"\n",
    "tokenizer = GPT2Tokenizer.from_pretrained(model_name)\n",
    "model = GPT2LMHeadModel.from_pretrained(model_name)\n",
    "\n",
    "input_text = \"What does Nietzsche say about\"\n",
    "input_ids = tokenizer.encode(input_text, return_tensors=\"pt\")\n",
    "attention_mask = torch.ones_like(input_ids)  # Creating an attention mask directly as a tensor\n",
    "\n",
    "# Ensure the tensors are of type long\n",
    "input_ids = input_ids.long()\n",
    "attention_mask = attention_mask.long()\n",
    "\n",
    "# Generate text\n",
    "output = model.generate(input_ids, max_length=200, num_return_sequences=1, temperature=0.7, do_sample=True, attention_mask=attention_mask)\n",
    "generated_text = tokenizer.decode(output[0], skip_special_tokens=True)\n",
    "\n",
    "print(generated_text)\n"
   ]
  },
  {
   "cell_type": "code",
   "execution_count": 5,
   "id": "a0fafdf2",
   "metadata": {},
   "outputs": [
    {
     "name": "stderr",
     "output_type": "stream",
     "text": [
      "Setting `pad_token_id` to `eos_token_id`:50256 for open-end generation.\n"
     ]
    },
    {
     "name": "stdout",
     "output_type": "stream",
     "text": [
      "What does Nietzsche say about religion?\n",
      "\n",
      "Nietzsche's argument for atheism is that religion is not justified because it's not true. Religion is an attempt to explain the world and human behavior in a way that is agreeable to a particular group of people. But since religion has no real objective grounds, it cannot be true.\n",
      "\n",
      "What does Nietzsche say about politics?\n",
      "\n",
      "Nietzsche's argument for politics is that politics is not justified because it's not free. The state is one\n"
     ]
    }
   ],
   "source": [
    "# hyper param tuning\n",
    "\n",
    "# Generate text with adjusted parameters\n",
    "output = model.generate(\n",
    "    input_ids,\n",
    "    max_length=100,\n",
    "    min_length=50,  # you can adjust this to ensure a certain length of output\n",
    "    temperature=0.8,\n",
    "    top_k=50,\n",
    "    top_p=0.95,\n",
    "    num_return_sequences=1,\n",
    "    do_sample=True,\n",
    "    attention_mask=attention_mask\n",
    ")\n",
    "generated_text = tokenizer.decode(output[0], skip_special_tokens=True)\n",
    "\n",
    "print(generated_text)\n"
   ]
  },
  {
   "cell_type": "code",
   "execution_count": null,
   "id": "b35e70e4",
   "metadata": {},
   "outputs": [],
   "source": []
  },
  {
   "cell_type": "code",
   "execution_count": null,
   "id": "3e4eea1e",
   "metadata": {},
   "outputs": [],
   "source": []
  }
 ],
 "metadata": {
  "kernelspec": {
   "display_name": "machinethinks",
   "language": "python",
   "name": "machinethinks"
  },
  "language_info": {
   "codemirror_mode": {
    "name": "ipython",
    "version": 3
   },
   "file_extension": ".py",
   "mimetype": "text/x-python",
   "name": "python",
   "nbconvert_exporter": "python",
   "pygments_lexer": "ipython3",
   "version": "3.11.4"
  }
 },
 "nbformat": 4,
 "nbformat_minor": 5
}
